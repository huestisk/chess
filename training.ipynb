{
 "metadata": {
  "language_info": {
   "codemirror_mode": {
    "name": "ipython",
    "version": 3
   },
   "file_extension": ".py",
   "mimetype": "text/x-python",
   "name": "python",
   "nbconvert_exporter": "python",
   "pygments_lexer": "ipython3",
   "version": "3.8.3"
  },
  "orig_nbformat": 2,
  "kernelspec": {
   "name": "python383jvsc74a57bd00be40f15dcfa6f86363c9264ef3f626f3c3a3ec773f4020b380e97c2efd2229f",
   "display_name": "Python 3.8.3 64-bit ('base': conda)"
  }
 },
 "nbformat": 4,
 "nbformat_minor": 2,
 "cells": [
  {
   "cell_type": "code",
   "execution_count": null,
   "metadata": {},
   "outputs": [],
   "source": [
    "import models\n",
    "import training"
   ]
  },
  {
   "cell_type": "code",
   "execution_count": null,
   "metadata": {},
   "outputs": [],
   "source": [
    "# Training parameters\n",
    "parameters = {\n",
    "    \"num_frames\" : 1000000,\n",
    "    \"batch_size\" : 32,\n",
    "    \"gamma\" : 0.95,\n",
    "\n",
    "    \"buffersize\" : 50000,\n",
    "\n",
    "    \"epsilon_start\" : 1.0,\n",
    "    \"epsilon_final\" : 0.01,\n",
    "    \"epsilon_decay\" : 500000,\n",
    "\n",
    "    \"beta_start\" : 0.4,\n",
    "    \"beta_frames\" : 100000,\n",
    "    \"alpha\" : 0.6,\n",
    "\n",
    "    # Rewards: move, illegal, win, loss, draw\n",
    "    \"rewards\" : [1e-3, -1e-3, 0, 0, 0]\n",
    "}"
   ]
  },
  {
   "cell_type": "code",
   "execution_count": null,
   "metadata": {},
   "outputs": [],
   "source": [
    "# Choose training method\n",
    "trainer = training.PriorDQN(parameters)"
   ]
  },
  {
   "cell_type": "code",
   "execution_count": null,
   "metadata": {},
   "outputs": [],
   "source": [
    "trainer.train()"
   ]
  },
  {
   "cell_type": "code",
   "execution_count": null,
   "metadata": {},
   "outputs": [],
   "source": []
  }
 ]
}